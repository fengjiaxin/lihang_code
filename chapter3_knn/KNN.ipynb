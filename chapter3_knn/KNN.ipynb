{
 "cells": [
  {
   "cell_type": "code",
   "execution_count": 1,
   "metadata": {},
   "outputs": [],
   "source": [
    "import math\n",
    "# 计算欧式距离\n",
    "def L(x,y,p=2):\n",
    "    if len(x) == len(y):\n",
    "        if len(x) == 1:\n",
    "            return abs(x[0] - y[0])\n",
    "        else:\n",
    "            sum = 0\n",
    "            for i in range(len(x)):\n",
    "                sum += math.pow(abs(x[i] - y[i]),p)\n",
    "            return math.pow(sum,1/p)\n",
    "    else:\n",
    "        return 0"
   ]
  },
  {
   "cell_type": "code",
   "execution_count": 2,
   "metadata": {},
   "outputs": [
    {
     "name": "stdout",
     "output_type": "stream",
     "text": [
      "4.0\n"
     ]
    }
   ],
   "source": [
    "x1 = [1,1]\n",
    "x2 = [5,1]\n",
    "\n",
    "print(L(x1,x2))"
   ]
  },
  {
   "cell_type": "code",
   "execution_count": 3,
   "metadata": {},
   "outputs": [],
   "source": [
    "import numpy as np\n",
    "import pandas as pd\n",
    "import matplotlib.pyplot as plt\n",
    "\n",
    "from sklearn.datasets import load_iris\n",
    "from sklearn.model_selection import train_test_split"
   ]
  },
  {
   "cell_type": "code",
   "execution_count": 4,
   "metadata": {},
   "outputs": [
    {
     "data": {
      "text/html": [
       "<div>\n",
       "<style scoped>\n",
       "    .dataframe tbody tr th:only-of-type {\n",
       "        vertical-align: middle;\n",
       "    }\n",
       "\n",
       "    .dataframe tbody tr th {\n",
       "        vertical-align: top;\n",
       "    }\n",
       "\n",
       "    .dataframe thead th {\n",
       "        text-align: right;\n",
       "    }\n",
       "</style>\n",
       "<table border=\"1\" class=\"dataframe\">\n",
       "  <thead>\n",
       "    <tr style=\"text-align: right;\">\n",
       "      <th></th>\n",
       "      <th>sepal length</th>\n",
       "      <th>sepal width</th>\n",
       "      <th>petal length</th>\n",
       "      <th>petal width</th>\n",
       "      <th>label</th>\n",
       "    </tr>\n",
       "  </thead>\n",
       "  <tbody>\n",
       "    <tr>\n",
       "      <th>0</th>\n",
       "      <td>5.1</td>\n",
       "      <td>3.5</td>\n",
       "      <td>1.4</td>\n",
       "      <td>0.2</td>\n",
       "      <td>0</td>\n",
       "    </tr>\n",
       "    <tr>\n",
       "      <th>1</th>\n",
       "      <td>4.9</td>\n",
       "      <td>3.0</td>\n",
       "      <td>1.4</td>\n",
       "      <td>0.2</td>\n",
       "      <td>0</td>\n",
       "    </tr>\n",
       "    <tr>\n",
       "      <th>2</th>\n",
       "      <td>4.7</td>\n",
       "      <td>3.2</td>\n",
       "      <td>1.3</td>\n",
       "      <td>0.2</td>\n",
       "      <td>0</td>\n",
       "    </tr>\n",
       "    <tr>\n",
       "      <th>3</th>\n",
       "      <td>4.6</td>\n",
       "      <td>3.1</td>\n",
       "      <td>1.5</td>\n",
       "      <td>0.2</td>\n",
       "      <td>0</td>\n",
       "    </tr>\n",
       "    <tr>\n",
       "      <th>4</th>\n",
       "      <td>5.0</td>\n",
       "      <td>3.6</td>\n",
       "      <td>1.4</td>\n",
       "      <td>0.2</td>\n",
       "      <td>0</td>\n",
       "    </tr>\n",
       "  </tbody>\n",
       "</table>\n",
       "</div>"
      ],
      "text/plain": [
       "   sepal length  sepal width  petal length  petal width  label\n",
       "0           5.1          3.5           1.4          0.2      0\n",
       "1           4.9          3.0           1.4          0.2      0\n",
       "2           4.7          3.2           1.3          0.2      0\n",
       "3           4.6          3.1           1.5          0.2      0\n",
       "4           5.0          3.6           1.4          0.2      0"
      ]
     },
     "execution_count": 4,
     "metadata": {},
     "output_type": "execute_result"
    }
   ],
   "source": [
    "iris = load_iris()\n",
    "df = pd.DataFrame(iris.data,columns=iris.feature_names)\n",
    "df['label'] = iris.target\n",
    "df.columns = ['sepal length', 'sepal width', 'petal length', 'petal width', 'label']\n",
    "df.head()"
   ]
  },
  {
   "cell_type": "code",
   "execution_count": 5,
   "metadata": {},
   "outputs": [
    {
     "data": {
      "text/plain": [
       "<matplotlib.legend.Legend at 0x1a190ab438>"
      ]
     },
     "execution_count": 5,
     "metadata": {},
     "output_type": "execute_result"
    },
    {
     "data": {
      "image/png": "[encoded data removed]",
      "text/plain": [
       "<Figure size 432x288 with 1 Axes>"
      ]
     },
     "metadata": {
      "needs_background": "light"
     },
     "output_type": "display_data"
    }
   ],
   "source": [
    "plt.scatter(df[:50]['sepal length'], df[:50]['sepal width'], label='0')\n",
    "plt.scatter(df[50:100]['sepal length'], df[50:100]['sepal width'], label='1')\n",
    "plt.xlabel('sepal length')\n",
    "plt.ylabel('sepal width')\n",
    "plt.legend()"
   ]
  },
  {
   "cell_type": "code",
   "execution_count": 25,
   "metadata": {},
   "outputs": [
    {
     "data": {
      "text/plain": [
       "150"
      ]
     },
     "execution_count": 25,
     "metadata": {},
     "output_type": "execute_result"
    }
   ],
   "source": [
    "len(df)"
   ]
  },
  {
   "cell_type": "code",
   "execution_count": 6,
   "metadata": {},
   "outputs": [],
   "source": [
    "# 为了方便，只取sepal length列和sepal width列，label列也取出来\n",
    "data = np.array(df.iloc[:100,[0,1,-1]])\n",
    "X,y = data[:,:-1],data[:,-1]\n",
    "X_train,X_test,y_train,y_test = train_test_split(X,y,test_size = 0.2)"
   ]
  },
  {
   "cell_type": "code",
   "execution_count": 30,
   "metadata": {},
   "outputs": [],
   "source": [
    "# 建立KNN列\n",
    "class KNN:\n",
    "    def __init__(self,X_train,y_train,n_neighbours=3,p=2):\n",
    "        self.n = n_neighbours\n",
    "        self.p = p\n",
    "        self.X_train = X_train\n",
    "        self.y_train = y_train\n",
    "        self.X_norm,self.ranges,self.min_vals = self.auto_norm(self.X_train)\n",
    "        \n",
    "    # 归一化，自己写    \n",
    "    def auto_norm(self,data_set):\n",
    "        min_vals = data_set.min(0)\n",
    "        max_vals = data_set.max(0)\n",
    "        ranges = max_vals - min_vals\n",
    "        m,n = data_set.shape\n",
    "        norm_data = data_set - np.tile(min_vals,(m,1))\n",
    "        norm_data = norm_data/np.tile(ranges,(m,1))\n",
    "        return norm_data,ranges,min_vals\n",
    "    \n",
    "    def predict(self,X):\n",
    "        data_size = self.X_train.shape[0]\n",
    "        norm_x = (X-self.min_vals)/(self.ranges)\n",
    "        diff_mat = np.tile(norm_x,(data_size,1)) - self.X_norm\n",
    "        sqDiffMat = diff_mat ** self.p\n",
    "        sq_distances = sqDiffMat.sum(axis = 1)\n",
    "        distances = sq_distances ** (1/self.p)\n",
    "        sorted_index = distances.argsort()\n",
    "        class_count = dict()\n",
    "        for i in range(self.n):\n",
    "            vote_label = self.y_train[sorted_index[i]]\n",
    "            class_count[vote_label] = class_count.get(vote_label,0) + 1\n",
    "        sorted_tuple_list = sorted(class_count.items(),key = lambda key:key[1],reverse=True)\n",
    "        return sorted_tuple_list[0][0]\n",
    "    \n",
    "    def score(self,X_test,y_test):\n",
    "        sum_number = len(X_test)\n",
    "        right_count = 0\n",
    "        for X,y in zip(X_test,y_test):\n",
    "            label = self.predict(X)\n",
    "            #print(label)\n",
    "            if label == y:\n",
    "                right_count += 1\n",
    "        return right_count/sum_number"
   ]
  },
  {
   "cell_type": "code",
   "execution_count": 31,
   "metadata": {},
   "outputs": [],
   "source": [
    "clf = KNN(X_train, y_train)"
   ]
  },
  {
   "cell_type": "code",
   "execution_count": 32,
   "metadata": {},
   "outputs": [
    {
     "data": {
      "text/plain": [
       "1.0"
      ]
     },
     "execution_count": 32,
     "metadata": {},
     "output_type": "execute_result"
    }
   ],
   "source": [
    "clf.score(X_test, y_test)"
   ]
  },
  {
   "cell_type": "code",
   "execution_count": 33,
   "metadata": {},
   "outputs": [
    {
     "name": "stdout",
     "output_type": "stream",
     "text": [
      "Test Point: 1.0\n"
     ]
    }
   ],
   "source": [
    "test_point = [6.0, 3.0]\n",
    "print('Test Point: {}'.format(clf.predict(test_point)))"
   ]
  },
  {
   "cell_type": "code",
   "execution_count": 35,
   "metadata": {},
   "outputs": [
    {
     "data": {
      "text/plain": [
       "<matplotlib.legend.Legend at 0x1a19677390>"
      ]
     },
     "execution_count": 35,
     "metadata": {},
     "output_type": "execute_result"
    },
    {
     "data": {
      "image/png": "[encoded data removed]",
      "text/plain": [
       "<Figure size 432x288 with 1 Axes>"
      ]
     },
     "metadata": {
      "needs_background": "light"
     },
     "output_type": "display_data"
    }
   ],
   "source": [
    "plt.scatter(df[:50]['sepal length'], df[:50]['sepal width'], label='0')\n",
    "plt.scatter(df[50:100]['sepal length'], df[50:100]['sepal width'], label='1')\n",
    "plt.plot(test_point[0], test_point[1], 'bo', label='test_point')\n",
    "plt.xlabel('sepal length')\n",
    "plt.ylabel('sepal width')\n",
    "plt.legend()"
   ]
  },
  {
   "cell_type": "code",
   "execution_count": 34,
   "metadata": {},
   "outputs": [
    {
     "data": {
      "text/plain": [
       "1.0"
      ]
     },
     "execution_count": 34,
     "metadata": {},
     "output_type": "execute_result"
    }
   ],
   "source": [
    "from sklearn.neighbors import KNeighborsClassifier\n",
    "\n",
    "clf_sk = KNeighborsClassifier()\n",
    "clf_sk.fit(X_train, y_train)\n",
    "\n",
    "clf_sk.score(X_test, y_test)"
   ]
  },
  {
   "cell_type": "markdown",
   "metadata": {},
   "source": [
    "#### kd树\n",
    "    1.创建kd树，首先kd树就是一个二叉树，按照纬度上的值将该区域分成两个子区域，每个节点都存储一个数据点\n",
    "    2.搜索kd树，如何搜索，先找到在同一个区域的子节点，然后回溯查找"
   ]
  },
  {
   "cell_type": "code",
   "execution_count": 47,
   "metadata": {},
   "outputs": [],
   "source": [
    "class KdNode:\n",
    "    def __init__(self,dom_elet,split,left,right):\n",
    "        # k维向量节点（k维空间中的一个样本点）\n",
    "        self.dom_elet = dom_elet\n",
    "        # 进行分割纬度的序号\n",
    "        self.split = split\n",
    "        # 该节点分割超平面左子空间构成的kd tree\n",
    "        self.left = left\n",
    "        # 该节点分割超平面右子空间构成的kd tree\n",
    "        self.right = right\n",
    "        \n",
    "class kdTree:\n",
    "    def __init__(self,data):\n",
    "        # 数据纬度\n",
    "        k = len(data[0])\n",
    "        \n",
    "        # 按照split维划分数据集合来创建kdNode\n",
    "        def create_node(split,data_set):\n",
    "            if not data_set:\n",
    "                return None\n",
    "            # 将data_set按照split维进行排序\n",
    "            data_set.sort(key = lambda x:x[split])\n",
    "            split_pos = len(data_set)//2\n",
    "            median = data_set[split_pos]\n",
    "            split_next = (split + 1) % k\n",
    "            return KdNode(\n",
    "                median,\n",
    "                split,\n",
    "                create_node(split_next,data_set[:split_pos]),\n",
    "                create_node(split_next,data_set[split_pos + 1:])\n",
    "                )\n",
    "        self.root = create_node(0,data)"
   ]
  },
  {
   "cell_type": "code",
   "execution_count": 48,
   "metadata": {},
   "outputs": [],
   "source": [
    "# kd树的前序遍历\n",
    "def preorder(root):\n",
    "    print(root.dom_elet)\n",
    "    if root.left:\n",
    "        preorder(root.left)\n",
    "    if root.right:\n",
    "        preorder(root.right)"
   ]
  },
  {
   "cell_type": "code",
   "execution_count": 49,
   "metadata": {},
   "outputs": [
    {
     "name": "stdout",
     "output_type": "stream",
     "text": [
      "[7, 2]\n",
      "[5, 4]\n",
      "[2, 3]\n",
      "[4, 7]\n",
      "[9, 6]\n",
      "[8, 1]\n"
     ]
    }
   ],
   "source": [
    "data = [[2,3],[5,4],[9,6],[4,7],[8,1],[7,2]]\n",
    "kd = kdTree(data)\n",
    "preorder(kd.root)"
   ]
  },
  {
   "cell_type": "markdown",
   "metadata": {},
   "source": [
    "#### 临近搜索\n",
    "给定一个kdTree和一个节点，求kdTree中离这个节点最近的节点\n",
    "#### 基本思路\n",
    "&emsp;&emsp;首先通过二叉搜索（比较代查询节点和分裂节点的分裂维的值，小于等于就进入左子树分支，大于就进入右子树分支直到叶子节点），顺着搜索路径很快就能找到最近临的近似点，也就是与代查询点处于同一个子空间的叶子节点；然后在回溯搜索路径，并判断搜索路径上的节点的其他子节点空间是否可能是距离查询点更近的数据点，如果有可能，则需要跳到其他子节点空间中搜索（将其他子节点加入到搜索路径）。重复这个过程直到搜索路径为空\n",
    "\n",
    "&emsp;&emsp;在回溯的过程中，需要一个队列，存储需要回溯的点，在判断其他子节点空间中是否有可能有距离查询点更近的数据点时，做法是以查询点为圆心，以当前的最近距离为半径画圆，这个圆成为候选超球，如果圆与回溯点的轴相交，则需要将轴的另一边的节点都放到回溯队列中。\n",
    "\n",
    "#### 例子\n",
    "假设现有kd树如下\n",
    "\n",
    "              (7,2) - x\n",
    "             /     \\\n",
    "          (5,4)    (9,6)  -y\n",
    "          /  \\       /\n",
    "       (2,3) (4,7) (8,1)   -x\n",
    "       \n",
    "    查找点(2,4.5),怎么做？\n",
    "    1.首先从根节点开始，可以根据二叉树得知，(2,4.5)会在(7,2)处测试到达(5,4),此时记录max_dist = L((7,2),(2,4.5)),nearest_node = (7,2)\n",
    "    2.走到(5,4)节点处，首先计算(2,4.5)和(5,4)的L距离 < |7-2|,因此(7,2)的右子树不必加入到queue_list,然后根据二叉树走到(4,7)\n",
    "    3.(4,7)是叶子节点，不能在往下走了，首先计算(2,4.5)和(4,7)的L 距离 > |5-3|,因此(5,4)的左子树需要检查，加入到queue_list中，然后比较，最后得到一个最近节点"
   ]
  },
  {
   "cell_type": "code",
   "execution_count": 92,
   "metadata": {},
   "outputs": [],
   "source": [
    "# 对构建好的kd树进行搜索，寻找与目标点最近的样本点\n",
    "from math import sqrt\n",
    "from collections import namedtuple\n",
    "\n",
    "# 定义一个对象，存储 最近坐标点，最近距离，访问过的节点数\n",
    "result = namedtuple('Result_tuple',['nearest_point', 'nearest_dist', 'nodes_visited'])\n",
    "\n",
    "\n",
    "def find_nearest(tree,point):\n",
    "    # 数据维度\n",
    "    k = len(point)\n",
    "    \n",
    "    # 这个是一个递归函数，参数是kd_node,target，和当前的最小距离\n",
    "    def travel(kd_node,target,min_dist):\n",
    "        '''\n",
    "        思路：首先是递归函数，返回的是一个对象，包含最近坐标点，最近距离，以及访问过的节点数\n",
    "        \n",
    "        1.首先确定的是该函数的含义是返回以kd_node为根的子树中距离target节点最近的节点\n",
    "        2.首先可以确定target在kd_node的左子树或者右子树，但同时保留另一个子树\n",
    "        3.调用temp_node = travel(kd_node.left,target,min_dist)，假设target在kd_node.left中，同时保留kd_node.right\n",
    "        4.首先确定temp_node与target的距离l1 和 temp_node和kd_node在维度s上的距离l2\n",
    "            1.if l1 < l2:说明超球体和超平面不相交，因此可以直接返回temp_node\n",
    "            2.if l1 >= l2:说明超球体和超平面相交\n",
    "                1.首先需要判断kd_node是否是离target_node更近的节点\n",
    "                2.然后调用temp_node2 = travel(kd_node.right,target,min_dist)\n",
    "                3.判断temp_node 和 temp_node2 哪个更近\n",
    "        \n",
    "        \n",
    "        '''\n",
    "        if kd_node is None:\n",
    "            return result([0] * k,float('inf'),0)\n",
    "        \n",
    "        nodes_visited = 1\n",
    "        # 切割的维度\n",
    "        s = kd_node.split\n",
    "        # 进行分割的节点\n",
    "        pivot = kd_node.dom_elet\n",
    "        \n",
    "        # 判断target 应该在kd_node的左子树还是右子树\n",
    "        if target[s] <= pivot[s]:\n",
    "            # next_node 记录下一个访问节点\n",
    "            # further_node 记录下一个访问节点的兄弟节点\n",
    "            next_node = kd_node.left\n",
    "            further_node = kd_node.right\n",
    "        else:\n",
    "            next_node = kd_node.right\n",
    "            further_node = kd_node.left\n",
    "            \n",
    "        # 找到以next_node为根节点的离target的最近节点信息    \n",
    "        temp_node_1 = travel(next_node,target,min_dist)\n",
    "        \n",
    "        # 以此‘叶节点’作为当前最近节点\n",
    "        nearest_node = temp_node_1.nearest_point\n",
    "        dist = temp_node_1.nearest_dist\n",
    "        \n",
    "        nodes_visited += temp_node_1.nodes_visited\n",
    "        \n",
    "        # 最近点将以目标点为求心，min_dist为半径的超球体内\n",
    "        if dist < min_dist:\n",
    "            min_dist = dist\n",
    "            \n",
    "        \n",
    "        # 第s维上目标点与分割超平面的距离\n",
    "        s_dist = abs(pivot[s] - target[s])\n",
    "        # 如果超球体与超平面不相交\n",
    "        if min_dist < s_dist:\n",
    "            #print(result(nearest_node,dist,nodes_visited))\n",
    "            return result(nearest_node,dist,nodes_visited)\n",
    "        else:\n",
    "            # 相交\n",
    "            # 计算目标点与分割点的欧式距离\n",
    "            # 首先判断pivot是否是离target更近的节点\n",
    "            pivot_dist = sqrt(sum((p1 - p2)**2 for p1,p2 in zip(pivot,target)))\n",
    "            \n",
    "            if pivot_dist < dist:\n",
    "                nearest_node = pivot\n",
    "                dist = pivot_dist\n",
    "                min_dist = dist\n",
    "            # 检查kd_node的另一个子区域是否有更近的节点\n",
    "            temp_node_2 = travel(further_node,target,min_dist)\n",
    "            nodes_visited += temp_node_2.nodes_visited\n",
    "            if temp_node_2.nearest_dist < dist:\n",
    "                nearest_node = temp_node_2.nearest_point\n",
    "                dist = temp_node_2.nearest_dist\n",
    "            #print(result(nearest_node,dist,nodes_visited))\n",
    "            return result(nearest_node,dist,nodes_visited)\n",
    "    return travel(tree.root,point,float('inf'))"
   ]
  },
  {
   "cell_type": "code",
   "execution_count": 93,
   "metadata": {},
   "outputs": [
    {
     "name": "stdout",
     "output_type": "stream",
     "text": [
      "Result_tuple(nearest_point=[2, 3], nearest_dist=1.8027756377319946, nodes_visited=4)\n"
     ]
    }
   ],
   "source": [
    "ret = find_nearest(kd, [3,4.5])\n",
    "print(ret)"
   ]
  },
  {
   "cell_type": "code",
   "execution_count": 77,
   "metadata": {},
   "outputs": [
    {
     "name": "stdout",
     "output_type": "stream",
     "text": [
      "[7, 2]\n",
      "[5, 4]\n",
      "[2, 3]\n",
      "[4, 7]\n",
      "[9, 6]\n",
      "[8, 1]\n"
     ]
    }
   ],
   "source": [
    "preorder(kd.root)"
   ]
  },
  {
   "cell_type": "code",
   "execution_count": 60,
   "metadata": {},
   "outputs": [],
   "source": [
    "result = namedtuple('Result_tuple',['point', 'dist', 'visited'])"
   ]
  },
  {
   "cell_type": "code",
   "execution_count": 70,
   "metadata": {},
   "outputs": [],
   "source": [
    "s = result([0],float('inf'),0)"
   ]
  },
  {
   "cell_type": "code",
   "execution_count": 71,
   "metadata": {},
   "outputs": [
    {
     "name": "stdout",
     "output_type": "stream",
     "text": [
      "Result_tuple(nearest_point=[0], nearest_dist=inf, nodes_visited=0)\n"
     ]
    }
   ],
   "source": [
    "print(s)"
   ]
  },
  {
   "cell_type": "code",
   "execution_count": 94,
   "metadata": {},
   "outputs": [
    {
     "name": "stdout",
     "output_type": "stream",
     "text": [
      "time:  5.0958309999999996 s\n",
      "Result_tuple(nearest_point=[0.09501596996460637, 0.500216161590213, 0.7934251754615785], nearest_dist=0.008253217490034954, nodes_visited=72)\n"
     ]
    }
   ],
   "source": [
    "from time import clock\n",
    "from random import random\n",
    "\n",
    "# 产生一个k维随机向量，每维分量值在0~1之间\n",
    "def random_point(k):\n",
    "    return [random() for _ in range(k)]\n",
    " \n",
    "# 产生n个k维随机向量 \n",
    "def random_points(k, n):\n",
    "    return [random_point(k) for _ in range(n)]\n",
    "\n",
    "\n",
    "N = 400000\n",
    "t0 = clock()\n",
    "kd2 = kdTree(random_points(3, N))            # 构建包含四十万个3维空间样本点的kd树\n",
    "ret2 = find_nearest(kd2, [0.1,0.5,0.8])      # 四十万个样本点中寻找离目标最近的点\n",
    "t1 = clock()\n",
    "print (\"time: \",t1-t0, \"s\")\n",
    "print (ret2)"
   ]
  },
  {
   "cell_type": "code",
   "execution_count": null,
   "metadata": {},
   "outputs": [],
   "source": []
  }
 ],
 "metadata": {
  "kernelspec": {
   "display_name": "Python 3",
   "language": "python",
   "name": "python3"
  },
  "language_info": {
   "codemirror_mode": {
    "name": "ipython",
    "version": 3
   },
   "file_extension": ".py",
   "mimetype": "text/x-python",
   "name": "python",
   "nbconvert_exporter": "python",
   "pygments_lexer": "ipython3",
   "version": "3.6.7"
  }
 },
 "nbformat": 4,
 "nbformat_minor": 2
}
