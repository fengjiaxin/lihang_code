{
 "cells": [
  {
   "cell_type": "markdown",
   "metadata": {},
   "source": [
    "### 1.特征分解\n",
    "\n",
    "&emsp;&emsp;特征分解是使用最广的矩阵分解之一，即将矩阵分解成特征向量和特征值；方阵A的特征向量是指与A相乘后相当于对该向量进行缩放的非零向量v。\n",
    "\n",
    "$$Av = \\lambda v \\tag{1-1}$$\n",
    "\n",
    "&emsp;&emsp;标量$\\lambda$被称为这个特征向量对应的特征值。假设矩阵A有n个线性无关的特征向量${v^{1},v^{2},...,v^{n}}$,对应特征值${\\lambda_{1},...,\\lambda_{n}}$。将特征向量连接成一个矩阵，使得每一列是一个特征向量:$V = [v^{1},...,v^{n}]$，同时可以将特征值连接成一个向量$\\lambda = {\\lambda_{1},...,\\lambda_{n}}$，因此A的特征分解可以记做:\n",
    "\n",
    "$$A = Vdiag(\\lambda)V^{-1} \\tag{1-2}$$\n",
    "\n",
    "&emsp;&emsp;线性变换的本质是将原先的网格进行拉伸，而特征值，特征向量的意义是找到拉伸后的向量方向和原来的方向没有变化，只有数值上的变化。对于一般的矩阵而言，特征向量不一定是正交的。\n",
    "\n",
    "&emsp;&emsp;**如果矩阵是对称的，对称矩阵的特征向量是正交的。**\n",
    "\n",
    "&emsp;&emsp;一般会把这n个特征向量标准化，即满足$||w_{i}||_{2} = 1$，此时W的n个特征向量为标准正交基，满足$W^{T}W = I$，即$W^{T} = W^{-1}$。\n",
    "\n",
    "&emsp;&emsp;这样特征分解表达式可以写成\n",
    "$$A = Vdiag(\\lambda)V^{T}\\tag{1-3}$$\n",
    "\n",
    "&emsp;&emsp;注意到此时的特征分解，矩阵A为方阵，如果矩阵A的行列数不相同，是否可以继续分解？接下来就是SVD分解。"
   ]
  },
  {
   "cell_type": "markdown",
   "metadata": {},
   "source": [
    "### 2.奇异值分解（SVD）\n",
    "&emsp;&emsp;假设矩阵A是2 \\* 2矩阵，那么寻找的特征向量就是寻找两个线性变化后方向不变的向量，如果A不是对称矩阵，那么得到的两个特征向量不正交，如果A矩阵是对称矩阵，那么得到的特征向量是正交的。\n",
    "\n",
    "&emsp;&emsp;SVD在2\\*2矩阵下的几何学本质：对于任意的2*2矩阵，能招待一个正交的网络，被转换到另外一个正交网络。即通过某种方式，挑出两个单位向量$v_{1},v_{2}$，它们是正交的，向量$Mv_{1},Mv_{2}$也是正交的。用$u_{1},u_{2}$代表向量$Mv_{1},Mv_{2}$方向的单位向量，用$\\sigma_{1},\\sigma_{2}$代表向量$Mv_{1},Mv_{2}$的长度，它们描述网格在这些方向上的拉伸量，这些数字称为M的奇异值。 \n"
   ]
  },
  {
   "cell_type": "markdown",
   "metadata": {},
   "source": [
    "&emsp;&emsp;因此有\n",
    "\n",
    "$$Mv_{1} = \\sigma_{1}u_{1}$$\n",
    "$$Mv_{2} = \\sigma_{2}u_{2}$$\n",
    "\n",
    "&emsp;&emsp;接下来说明一下矩阵M是如何处理向量X的，因为单位向量$v_{1},v_{2}$是正交的，所以有\n",
    "\n",
    "$$x = (v_{1}.x)v_{1} + (v_{2}.x)v_{2}$$\n",
    "\n",
    "&emsp;&emsp;因此有\n",
    "\n",
    "$$Mx = (v_{1}.x)Mv_{1} + (v_{2}.x)Mv_{2}$$\n",
    "$$Mx = (v_{1}.x)\\sigma_{1}u_{1} + (v_{2}.x)\\sigma_{2}u_{2}$$\n",
    "\n",
    "&emsp;&emsp;其中内积dot product操作可以用矩阵转置实现\n",
    "\n",
    "$$v.x = v^{T}x$$\n",
    "\n",
    "&emsp;&emsp;从而导出\n",
    "\n",
    "$$Mx = u_{1}\\sigma_{1}v_{1}^{T}x + u_{2}\\sigma_{2}v_{2}^{T}x$$\n",
    "$$M = u_{1}\\sigma_{1}v_{1}^{T} + u_{2}\\sigma_{2}v_{2}^{T}$$\n",
    "\n",
    "&emsp;&emsp;上述表达式可以简写成\n",
    "\n",
    "$$M = U\\sigma V^{T}$$\n",
    "\n",
    "&emsp;&emsp;其中U是由向量$u_{1},u_{2}$(作为列)组成的矩阵，$\\sigma$是对角矩阵，对象线上的值是$\\sigma_{1},\\sigma_{2}$，V是向量$v_{1},v_{2}$(作为列)组成的矩阵。\n",
    "\n",
    "&emsp;&emsp;上面显示了如何将矩阵M分解为三矩阵的积：V描述在domain中的规范正交积，U描述co-domain中的规范正交基，$\\sigma$描述在V中的向量在U中的拉伸量。\n",
    "\n",
    "&emsp;&emsp;**SVD的思考：**\n",
    "1. 如果把每个矩阵看作是一种转换动作，可以描述为：先旋转，然后拉伸展，然后再一次旋转\n",
    "2. SVD的idea是：在向量空间$R^{n},R^{m}$上选择正确的基，每个m*n矩阵均可对角线化。问题是如何找到这些基"
   ]
  },
  {
   "cell_type": "markdown",
   "metadata": {},
   "source": [
    "### 3.SVD定义\n",
    "&emsp;&emsp;上面的SVD是基于方阵进行思考的，此时进行扩展，如果矩阵不是方阵，依然可以用SVD进行分解，假设矩阵是一个m \\* n的矩阵，那么定义矩阵A的SVD为:\n",
    "\n",
    "$$A = U\\sigma V^{T}$$\n",
    "\n",
    "&emsp;&emsp;其中U是一个m * m的矩阵，$\\sigma$是一个m * n矩阵，除了主对角线上的元素以外全为0，主对角线上的每个元素都称为奇异值，V是一个n * n矩阵，U和V都是正交矩阵，即满足$U^{T}U = E,v^{T}V = E$"
   ]
  },
  {
   "cell_type": "markdown",
   "metadata": {},
   "source": [
    "&emsp;&emsp;那么如何计算SVD分解后的三个矩阵？\n",
    "\n",
    "&emsp;&emsp;如果我们将A的转置和A做矩阵乘法，那么会得到n * n的一个方阵$A^{T}A$。既然$A^{T}A$是方阵，那么我们就可以进行特征分解，得到的特征值和特征向量满足下式：\n",
    "\n",
    "$$(A^{T}A)v_{i} = \\sigma{i}v_{i}$$\n",
    "\n",
    "&emsp;&emsp;这样我们就可以得到矩阵$A^{T}A$的n个特征值和对应的n个特征向量v了。将$A^{T}A$的所有特征向量张成一个n * n的矩阵V，就是我们SVD公式里面的V矩阵了。一般我们将V中的每个特征向量叫做A的右奇异向量。\n",
    "\n",
    "&emsp;&emsp;如果我们将A和A的转置做矩阵乘法，那么会得到m * m的一个方阵$AA^{T}$。既然$AA^{T}$是方阵，那么我们就可以进行特征分解，得到的特征值和特征向量满足下式：\n",
    "\n",
    "$$(AA^{T}A)u_{i} = \\sigma{i}u_{i}$$\n",
    "\n",
    "&emsp;&emsp;这样我们就可以得到矩阵$AA^{T}$的m个特征值和对应的m个特征向量u了。将$AA^{T}$的所有特征向量张成一个𝑚×𝑚的矩阵U，就是我们SVD公式里面的U矩阵了。一般我们将U中的每个特征向量叫做A的左奇异向量。\n",
    "\n",
    "&emsp;&emsp;U和V我们都求出来了，现在就剩下奇异值矩阵$\\sigma$没有求出了。由于$\\sigma$除了对角线上是奇异值其他位置都是0，那我们只需要求出每个奇异值$\\sigma$就可以了。\n",
    "\n",
    "$$A = U\\sigma V^{T} => A^{T} = V\\sigma^{T}U^{T} => A^{T}A = V\\sigma^{T}U^{T}U\\sigma V^{T} = V\\sigma^{2}V^{T}$$\n",
    "\n",
    "$$A^{T}AV = \\sigma^{2}V$$\n",
    "\n",
    "&emsp;&emsp;可以看出$A^{T}A$的特征值矩阵等于奇异值矩阵的平方，也就是说特征值和奇异值满足如下关系:\n",
    "\n",
    "$$\\sigma_{i} = \\sqrt{\\lambda_{i}}$$\n",
    "\n",
    "&emsp;&emsp;即可以通过求$A^{T}A$的特征值取平方根求A的奇异值。\n",
    "\n",
    "**总结**\n",
    "\n",
    "&emsp;&emsp;按照物理思想，再复杂的力也可以进行分解，其中可能某个方向的力特别大，某个方向的力特别小，矩阵也是一样，奇异值大的代表在这个方向上拉伸的多，即更重要，如果较小，表明信息很小，其中奇异值可以表示信息的多少，奇异值越大表示代表的信息越多。"
   ]
  },
  {
   "cell_type": "code",
   "execution_count": 1,
   "metadata": {},
   "outputs": [],
   "source": [
    "import numpy as np\n",
    "\n",
    "U,Sigma,VT = np.linalg.svd([[1,1],[7,7]])   "
   ]
  },
  {
   "cell_type": "code",
   "execution_count": 2,
   "metadata": {},
   "outputs": [
    {
     "data": {
      "text/plain": [
       "array([[-0.14142136, -0.98994949],\n",
       "       [-0.98994949,  0.14142136]])"
      ]
     },
     "execution_count": 2,
     "metadata": {},
     "output_type": "execute_result"
    }
   ],
   "source": [
    "U"
   ]
  },
  {
   "cell_type": "code",
   "execution_count": 3,
   "metadata": {},
   "outputs": [
    {
     "data": {
      "text/plain": [
       "array([1.00000000e+01, 2.82797782e-16])"
      ]
     },
     "execution_count": 3,
     "metadata": {},
     "output_type": "execute_result"
    }
   ],
   "source": [
    "Sigma"
   ]
  },
  {
   "cell_type": "code",
   "execution_count": 4,
   "metadata": {},
   "outputs": [
    {
     "data": {
      "text/plain": [
       "array([[-0.70710678, -0.70710678],\n",
       "       [ 0.70710678, -0.70710678]])"
      ]
     },
     "execution_count": 4,
     "metadata": {},
     "output_type": "execute_result"
    }
   ],
   "source": [
    "VT"
   ]
  },
  {
   "cell_type": "code",
   "execution_count": 1,
   "metadata": {},
   "outputs": [
    {
     "name": "stdout",
     "output_type": "stream",
     "text": [
      "size -> w:1728\th:1080\n",
      "sigma length :1080\n"
     ]
    }
   ],
   "source": [
    "import numpy as np\n",
    "from PIL import Image\n",
    "\n",
    "def svd_restore(sigma, u, v, K):\n",
    "    K = min(len(sigma)-1, K)            #当K超过sigma的长度时会造成越界\n",
    "    m = len(u)\n",
    "    n = v[0].size\n",
    "    SigRecon = np.zeros((m, n))         #新建一int矩阵，储存恢复的灰度图像素\n",
    "    for k in range(K+1):                #计算X=u*sigma*v\n",
    "        for i in range(m):\n",
    "            SigRecon[i] += sigma[k] * u[i][k] * v[k]\n",
    "    SigRecon = SigRecon.astype('uint8') #计算得到的矩阵还是float型，需要将其转化为uint8以转为图片\n",
    "    Image.fromarray(SigRecon).save(\"svd_\" + str(K) + \"_\" +image_file) #保存灰度图\n",
    "    \n",
    "image_file = 'cat.jpg'\n",
    "im = Image.open(image_file)    #打开图像文件\n",
    "im = im.convert('L')           #将原图像转化为灰度图\n",
    "im.save(\"Gray_\" + image_file)  #保存灰度图\n",
    "w, h = im.size                 #得到原图的长与宽\n",
    "print('size -> w:%d\\th:%d'%(w,h))\n",
    "dt = np.zeros((w, h), 'uint8') #新建一int矩阵，储存灰度图各像素点数据\n",
    "for i in range(w):             #逐像素点复制，由于直接对im.getdata()进行数据类型转换会有偏差\n",
    "    for j in range(h):\n",
    "        dt[i][j] = im.getpixel((i, j))\n",
    "dt = dt.transpose()            #复制过来的图像是原图的翻转，因此将其再次翻转到正常角度\n",
    "u, sigma, v = np.linalg.svd(dt)#调用numpy库进行SVM\n",
    "u = np.array(u)                #转为array格式，方便进行乘法运算\n",
    "v = np.array(v)\n",
    "sigma_len = len(sigma)\n",
    "print('sigma length :%d'%sigma_len)\n",
    "for k in [1, 10, 20, 30, 50, 80, 100, 150, 200, 300, 500]:\n",
    "    svd_restore(sigma, u, v, k)#使用前k个奇异值进行恢复"
   ]
  },
  {
   "cell_type": "code",
   "execution_count": null,
   "metadata": {},
   "outputs": [],
   "source": []
  }
 ],
 "metadata": {
  "kernelspec": {
   "display_name": "Python 3",
   "language": "python",
   "name": "python3"
  },
  "language_info": {
   "codemirror_mode": {
    "name": "ipython",
    "version": 3
   },
   "file_extension": ".py",
   "mimetype": "text/x-python",
   "name": "python",
   "nbconvert_exporter": "python",
   "pygments_lexer": "ipython3",
   "version": "3.6.6"
  }
 },
 "nbformat": 4,
 "nbformat_minor": 2
}
