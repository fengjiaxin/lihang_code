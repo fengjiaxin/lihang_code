{
 "cells": [
  {
   "cell_type": "markdown",
   "metadata": {},
   "source": [
    "### 1.logistic回归\n",
    "逻辑回归中，预测值:\n",
    "\n",
    "$$h = P(y=1|x)$$\n",
    "\n",
    "其表示值为1的概率，取值范围在[0,1]之间\n",
    "引入sigmoid函数，预测值:\n",
    "\n",
    "$$h = Sigmoid(w^{T}x + b) = \\sigma(w^{T}x + b)$$\n",
    "\n",
    "其中\n",
    "$$Sigmoid(z) = \\sigma(z) = \\frac{1}{1 + e^{-z}}$$\n",
    "注意：函数的一阶导数可以用其自身表示:\n",
    "$$\\frac{\\partial \\sigma(z)}{\\partial z} = \\sigma(z)(1-\\sigma(z))$$"
   ]
  },
  {
   "cell_type": "markdown",
   "metadata": {},
   "source": [
    "### 2.logistic回归 损失函数\n",
    "#### Loss function\n",
    "一般来说，使用平方错误来衡量loss function:\n",
    "$$L(h^{hat},y) = \\frac{1}{2}(y^{hat}-y)^{2}$$\n",
    "但是，对于logistic 回归来说，一般不适合用平方错误来作为loss function,这是因为上面的平方错误损失函数一般是非凸函数，在使用梯度下降算法的时候，容易得到局部最优解，而不是全局最优解。因此要选择凸函数。\n",
    "\n",
    "首先最大似然函数:\n",
    "其中$h = P(y=1|x)$代表预测y==1的概率\n",
    "$$LL(h,y) = h^{y}(1-h)^(1-y)$$\n",
    "\n",
    "进行log后得到的对数似然损失函数如下:\n",
    "$$ll(h,y) = log(LL(h,y)) = ylog(h) + (1-y)log(1-h)$$\n",
    "\n",
    "最大似然函数最初是希望越大越好，求出估计参数，但是我们的损失函数是希望越小越好\n",
    "因此最大似然损失函数可以定义为-1 * 最大对数似然函数\n",
    "最大似然损失函数：\n",
    "\n",
    "$$l(h,y) = -1 * ll(h,y) = -ylog(h) - (1-y)log(1-h)$$"
   ]
  },
  {
   "cell_type": "markdown",
   "metadata": {},
   "source": [
    "目标是最小化样本点的损失loss function,损失函数是针对单个样本点的\n",
    "\n",
    "#### cost function\n",
    "全部训练数据集的loss_function总和的平均值即为训练集的代价函数（cost function）\n",
    "$$J(w,b) = \\frac{1}{m}\\sum_{i=1}^{m}l(h^{(i)},y^{(i)}) = -\\frac{1}{m}[y^{(i)}logh^{(i)} + (1-y^{(i)})log(1-y^{(i)})]$$\n",
    "\n",
    "    1.cost function是带求系数w和b的函数\n",
    "    2.目标是迭代计算出最佳的w和b的值，最小化cost function，让其尽可能的接近于0\n",
    "    \n",
    "### 3.梯度下降\n",
    "用梯度下降法来最小化cost function,以计算出合适的w和b的值。\n",
    "每次迭代更新的修正的表达式:\n",
    "$$w := w - \\alpha\\frac{\\partial J(w,b)}{\\partial w}$$\n",
    "$$b := b - \\alpha\\frac{\\partial J(w,b)}{\\partial b}$$\n",
    "\n",
    "在程序代码中，通常使用dw表示$\\frac{\\partial J(w,b)}{\\partial w}$,db表示$\\frac{\\partial J(w,b)}{\\partial b}$"
   ]
  },
  {
   "cell_type": "markdown",
   "metadata": {},
   "source": [
    "### 4.逻辑回归中的梯度下降法\n",
    "对单个样本而言，逻辑回归loss function表达式为:\n",
    "$$z = w^{T}x + b$$\n",
    "$$h = \\sigma(z)$$\n",
    "$$l(h,y) = -ylog(h) - (1-y)log(1-h)$$\n",
    "\n",
    "反向传播过程\n",
    "$$dh = \\frac{\\partial l}{\\partial h} = -\\frac{y}{h} + \\frac{(1-y)}{(1-h)}$$\n",
    "$$dz=\\frac{\\partial l}{\\partial z}=\\frac{\\partial l)}{\\partial h} * \\frac{\\partial h}{\\partial z} = (-\\frac{y}{h} + \\frac{(1-y)}{(1-h)}) * h(1-h) = h-y$$\n",
    "$$dw_{1} = \\frac{\\partial l}{\\partial w_{1}} = \\frac{\\partial l}{\\partial z} * \\frac{\\partial z}{\\partial w_{1}} = x_{1}*(a-y)$$\n",
    "$$db = \\frac{\\partial l}{\\partial b} = \\frac{\\partial l}{\\partial z} * \\frac{\\partial z}{\\partial b} = a-y$$\n",
    "\n",
    "梯度下降法:\n",
    "$$w_{1} := w_{1} - \\alpha dw_{1}$$\n",
    "$$w_{2} := w_{2} - \\alpha dw_{2}$$\n",
    "$$b := b - \\alpha db$$"
   ]
  },
  {
   "cell_type": "markdown",
   "metadata": {},
   "source": [
    "### 5.m个样本的梯度下降\n",
    "对m个样本来说，其cost function表达式如下:\n",
    "$$z^{i} = w^{T}x^{(i)} + b$$\n",
    "$$h^{(i)} = \\sigma(z^{i})$$\n",
    "$$J(w,b) = \\frac{1}{m}\\sum_{i=1}^{m}l(h^{(i)},y^{(i)}) = -\\frac{1}{m}[y^{(i)}logh^{(i)} + (1-y^{(i)})log(1-y^{(i)})]$$\n",
    "cost function 关于w和b的偏导数可以写成所有样本点偏导数和的平均形式:\n",
    "$$dw_{1} = \\frac{1}{m}\\sum_{i=1}^{m}x_{1}^{(i)}(h^{(i)} - y^{(i)})$$\n",
    "$$dw_{2} = \\frac{1}{m}\\sum_{i=1}^{m}x_{2}^{(i)}(h^{(i)} - y^{(i)})$$\n",
    "$$db = \\frac{1}{m}\\sum_{i=1}^{m}(h^{(i)} - y^{(i)})$$\n",
    "\n",
    "完整的logistic 回归中某次训练的流程如下，这里假设特征向量的维度为2\n",
    "\n",
    "\n",
    "$J = 0,dw_{1} = 0,dw_{2} = 0,db = 0$\n",
    "\n",
    "for i = 1 to m:\n",
    "\n",
    "&emsp;&emsp;$z^{(i)} = w^{T}x^{(i)} + b$\n",
    "\n",
    "&emsp;&emsp;$h^{(i)} = \\sigma(z^{(i)})$\n",
    "\n",
    "&emsp;&emsp;$J += -[y^{(i)}logh^{(i)} + (1-y^{(i)})log(1-y^{(i)})]$\n",
    "\n",
    "&emsp;&emsp;$dz^{(i)} = h^{(i)}(1-h^{(i)})$\n",
    "\n",
    "&emsp;&emsp;$dw_{1} += x_{1}^{(i)}dz^{(i)}$\n",
    "\n",
    "&emsp;&emsp;$dw_{2} += x_{2}^{(i)}dz^{(i)}$\n",
    "\n",
    "&emsp;&emsp;$db += dz^{(i)}$\n",
    "\n",
    "$J = J/m,dw_{1} = dw_{1}/m,dw_{2} = dw_{2}/m,db = db/m$\n",
    "\n",
    "然后对$w_{1},w_{2},b$进行迭代。\n",
    "\n",
    "上诉过程在计算的时候有一个缺点：需要编写两个for循环。第一个for循环遍历m个样本，第二个for循环遍历所有特征。如果有大量特征，在代码中显示使用for循环会使算法很低效，向量化可以用于解决显示使用for循环的问题。"
   ]
  },
  {
   "cell_type": "markdown",
   "metadata": {},
   "source": [
    "### 6.向量化（Vectorization）\n",
    "在logistic 回归中，需要计算：\n",
    "$$z = w^{T}x + b$$\n",
    "如果是非向量化的循环方式操作，代码可能如下:\n",
    "```\n",
    "z = 0\n",
    "for i in range(n_x):\n",
    "    z += w[i] * x[i]\n",
    "z += b\n",
    "```\n",
    "#### 剖析如何去掉for循环\n",
    "\n",
    "$$dw_{1} = \\frac{1}{m}\\sum_{i=1}^{m}x_{1}^{(i)}(h^{(i)} - y^{(i)})$$\n",
    "$$dw_{2} = \\frac{1}{m}\\sum_{i=1}^{m}x_{2}^{(i)}(h^{(i)} - y^{(i)})$$\n",
    "$$db = \\frac{1}{m}\\sum_{i=1}^{m}(h^{(i)} - y^{(i)})$$\n",
    "\n",
    "其中$dw$是求导矩阵，可以将$dw_{1},dw_{2}$按照行进行拼接\n",
    "\n",
    "$$dw = \n",
    " \\left[\n",
    " \\begin{matrix}\n",
    "   dw_{1} \\\\\n",
    "   dw_{2} \\\\\n",
    "  \\end{matrix}\n",
    "  \\right]\n",
    "  = \\frac{1}{m}\n",
    "  \\left[\n",
    "  \\begin{matrix}\n",
    "   \\sum_{i=1}^{m}x_{1}^{(i)}(h^{(i)} - y^{(i)}) \\\\\n",
    "   \\sum_{i=1}^{m}x_{2}^{(i)}(h^{(i)} - y^{(i)}) \\\\\n",
    "  \\end{matrix}\n",
    "  \\right]\n",
    "$$\n",
    "\n",
    "重新定义向量\n",
    "\n",
    "1. 输入矩阵X: ($n_{x}$,m)\n",
    "2. 权重矩阵W: ($n_{x}$,1)\n",
    "3. 偏置b: 为一个常数\n",
    "4. 输出矩阵Y: (1,m)\n",
    "\n",
    "假设特征向量个数为2，然后有m个样本:\n",
    "输入矩阵X格式如下:\n",
    "$$X = \n",
    " \\left[\n",
    " \\begin{matrix}\n",
    "   x_1^{1} & \\cdots x_1^{m} \\\\\n",
    "   x_2^{1} & \\cdots x_2^{m} \\\\\n",
    "  \\end{matrix}\n",
    "  \\right]\n",
    "$$\n",
    "权重矩阵w格式如下:\n",
    "$$\n",
    "W = \n",
    " \\left[\n",
    " \\begin{matrix}\n",
    "   w_1 \\\\\n",
    "   w_2 \\\\\n",
    "  \\end{matrix}\n",
    "  \\right]\n",
    "$$\n",
    "那么累加和矩阵Z 格式如下:\n",
    "$$\n",
    "Z = \n",
    " \\left[\n",
    " \\begin{matrix}\n",
    "   z_1 & \\cdots z_m \\\\\n",
    "  \\end{matrix}\n",
    "  \\right]\n",
    "  =\n",
    "  \\left[\n",
    "  \\begin{matrix}\n",
    "   W^{T} * X^{(1)} + b & \\cdots W^{T} * X^{(m)} + b \\\\\n",
    "  \\end{matrix}\n",
    "  \\right]\n",
    "  = W^{T} * X + b\n",
    "$$\n",
    "\n",
    "\n",
    "如果是向量化操作，代码会简洁很多，并带来近百倍的性能提升(并行指令)\n",
    "```\n",
    "z = np.dot(w.T,x) + b\n",
    "h = sigmoid(z)\n",
    "```\n",
    "\n",
    "#### 逻辑回归梯度下降输出向量化\n",
    "不用显示for循环，实现logistic回归的梯度下降一次迭代(即计算m个样本的平均损失):\n",
    "$$Z = w^{T}X + b = np.dot(w.T,x) + b$$\n",
    "$$H = \\sigma(Z)$$\n",
    "$$dZ = A - Y$$\n",
    "$$dw = \\frac{1}{m}XdZ^{T}$$\n",
    "$$db = \\frac{1}{m}np.sum(dZ)$$\n",
    "$$w := w - \\alpha dw$$\n",
    "$$b := b - \\alpha db$$\n",
    "\n",
    "多次迭代的梯度下降依然需要for循环\n",
    "\n",
    "### 7.手动推导过程\n",
    "\n",
    "![hands](./picture/hands_logistic.jpg)\n",
    "\n",
    "\n",
    "### 8.代码\n"
   ]
  },
  {
   "cell_type": "code",
   "execution_count": 1,
   "metadata": {},
   "outputs": [],
   "source": [
    "from math import exp\n",
    "import numpy as np\n",
    "import pandas as pd\n",
    "import matplotlib.pyplot as plt\n",
    "%matplotlib inline\n",
    "\n",
    "from sklearn.datasets import load_iris\n",
    "from sklearn.model_selection import train_test_split"
   ]
  },
  {
   "cell_type": "code",
   "execution_count": 2,
   "metadata": {},
   "outputs": [],
   "source": [
    "# data\n",
    "def create_data():\n",
    "    iris = load_iris()\n",
    "    df = pd.DataFrame(iris.data,columns = iris.feature_names)\n",
    "    df['label'] = iris.target\n",
    "    df.columns = ['sepal length', 'sepal width', 'petal length', 'petal width', 'label']\n",
    "    data = np.array(df.iloc[:100, [0,1,-1]])\n",
    "    # print(data)\n",
    "    return data[:,:2], data[:,-1]"
   ]
  },
  {
   "cell_type": "code",
   "execution_count": 3,
   "metadata": {},
   "outputs": [],
   "source": [
    "X, y = create_data()\n",
    "X_train, X_test, y_train, y_test = train_test_split(X, y, test_size=0.3)"
   ]
  },
  {
   "cell_type": "code",
   "execution_count": 254,
   "metadata": {},
   "outputs": [
    {
     "data": {
      "text/plain": [
       "array([0., 0., 1., 1., 0., 0., 0., 0., 0., 0., 1., 1., 1., 1., 0., 0., 1.,\n",
       "       0., 0., 0., 1., 1., 1., 1., 0., 1., 1., 0., 0., 0., 0., 1., 1., 1.,\n",
       "       1., 0., 1., 1., 0., 0., 0., 0., 0., 0., 1., 1., 1., 1., 0., 1., 1.,\n",
       "       0., 0., 1., 0., 1., 0., 0., 1., 0., 1., 0., 0., 0., 1., 1., 1., 0.,\n",
       "       0., 1.])"
      ]
     },
     "execution_count": 254,
     "metadata": {},
     "output_type": "execute_result"
    }
   ],
   "source": [
    "y_train"
   ]
  },
  {
   "cell_type": "code",
   "execution_count": 170,
   "metadata": {},
   "outputs": [],
   "source": [
    "class LogisticRegressionClassifier:\n",
    "    def __init__(self,max_iter=2,learning_rate=0.005):\n",
    "        self.max_iter = max_iter\n",
    "        self.learning_rate = learning_rate\n",
    "        #self.X_norm,self.ranges,self.min_vals = self.auto_norm(self.X_train)\n",
    "        \n",
    "    # 归一化，自己写    \n",
    "    def auto_norm(self,data_set):\n",
    "        min_vals = data_set.min(0)\n",
    "        max_vals = data_set.max(0)\n",
    "        ranges = max_vals - min_vals\n",
    "        m,n = data_set.shape\n",
    "        norm_data = data_set - np.tile(min_vals,(m,1))\n",
    "        norm_data = norm_data/np.tile(ranges,(m,1))\n",
    "        return norm_data,ranges,min_vals\n",
    "    \n",
    "    def correct_data(self,data_set):\n",
    "        '''\n",
    "        在归一化测试数据集的时候，可能出现异常情况\n",
    "        '''\n",
    "        \n",
    "    def sigmoid(self,x):\n",
    "        s = 1./(1 + np.exp(-x))\n",
    "        return s\n",
    "    \n",
    "    def fit(self,X,y):\n",
    "        '''\n",
    "        注意此时X.shape=(m,n) Y = (m,1)\n",
    "        '''\n",
    "        m,n = X.shape\n",
    "        X = X.reshape((n,m))\n",
    "        print('X.shape ' + str(X.shape))\n",
    "        Y = y.reshape((1,m))\n",
    "        self.weights = np.array([0.0] * n).reshape((n,1))\n",
    "        #print('weights.shape ' + str(self.weights.shape))\n",
    "        \n",
    "        self.bias = 0.0\n",
    "        for iter in range(self.max_iter):\n",
    "            Z = np.dot(self.weights.T,X) + self.bias\n",
    "            #print('Z.shape ' + str(Z.shape))\n",
    "            H = self.sigmoid(Z)\n",
    "            dz = H - Y\n",
    "            #print('dz.shape ' + str(dz.shape))\n",
    "            dw = (1./m) * np.dot(X,dz.T)\n",
    "            #print('dz ' + str(dz))\n",
    "            db = (1./m) * np.sum(dz,axis=1)\n",
    "            #print('db ' + str(db))\n",
    "            #print('dw.shape ' + str(dw.shape))\n",
    "            self.weights = self.weights - self.learning_rate * dw\n",
    "            self.bias = self.bias - self.learning_rate * db\n",
    "        print('LogisticRegression Model(learning_rate={},max_iter={})'.format(\n",
    "            self.learning_rate, self.max_iter))\n",
    "    def score(self,X_test,y_test):\n",
    "        '''\n",
    "        输入矩阵X_test.shape [m,n_x]\n",
    "        输入labels Array[y1,y2]\n",
    "        '''\n",
    "        m,n = X_test.shape\n",
    "        X_test = X_test.reshape((n,m))\n",
    "        X_pred = np.dot(self.weights.T,X_test) + self.bias\n",
    "        X_pred = X_pred.reshape((m,))\n",
    "        right_count = 0\n",
    "        for i in range(m):\n",
    "            if (y_test[i] == 1 and X_pred[i] >= 0) or (y_test[i] == 0 and X_pred[i] < 0):\n",
    "                right_count += 1\n",
    "        return right_count/m\n",
    "        "
   ]
  },
  {
   "cell_type": "code",
   "execution_count": 171,
   "metadata": {},
   "outputs": [
    {
     "name": "stdout",
     "output_type": "stream",
     "text": [
      "X.shape (2, 70)\n",
      "LogisticRegression Model(learning_rate=0.005,max_iter=2)\n"
     ]
    }
   ],
   "source": [
    "lr_clf = LogisticRegressionClassifier()\n",
    "lr_clf.fit(X_train,y_train)"
   ]
  },
  {
   "cell_type": "code",
   "execution_count": 172,
   "metadata": {},
   "outputs": [
    {
     "data": {
      "text/plain": [
       "0.43333333333333335"
      ]
     },
     "execution_count": 172,
     "metadata": {},
     "output_type": "execute_result"
    }
   ],
   "source": [
    "lr_clf.score(X_test, y_test)"
   ]
  },
  {
   "cell_type": "code",
   "execution_count": 96,
   "metadata": {},
   "outputs": [
    {
     "data": {
      "text/plain": [
       "0.01932845258568052"
      ]
     },
     "execution_count": 96,
     "metadata": {},
     "output_type": "execute_result"
    }
   ],
   "source": [
    "lr_clf.weights[1,0]"
   ]
  },
  {
   "cell_type": "code",
   "execution_count": 120,
   "metadata": {},
   "outputs": [
    {
     "data": {
      "text/plain": [
       "array([-0.05036773])"
      ]
     },
     "execution_count": 120,
     "metadata": {},
     "output_type": "execute_result"
    }
   ],
   "source": [
    "lr_clf.bias"
   ]
  },
  {
   "cell_type": "code",
   "execution_count": 113,
   "metadata": {},
   "outputs": [
    {
     "data": {
      "text/plain": [
       "(70,)"
      ]
     },
     "execution_count": 113,
     "metadata": {},
     "output_type": "execute_result"
    }
   ],
   "source": [
    "y_train.shape"
   ]
  },
  {
   "cell_type": "code",
   "execution_count": 125,
   "metadata": {},
   "outputs": [
    {
     "data": {
      "text/plain": [
       "<matplotlib.legend.Legend at 0x1a1c66a940>"
      ]
     },
     "execution_count": 125,
     "metadata": {},
     "output_type": "execute_result"
    },
    {
     "data": {
      "image/png": "[encoded data removed]",
      "text/plain": [
       "<Figure size 432x288 with 1 Axes>"
      ]
     },
     "metadata": {
      "needs_background": "light"
     },
     "output_type": "display_data"
    }
   ],
   "source": [
    "x_points = np.arange(4, 8)\n",
    "y_ = -(lr_clf.weights[0,0] * x_points + lr_clf.bias)/lr_clf.weights[1,0]\n",
    "plt.plot(x_points,y_)\n",
    "\n",
    "plt.scatter(X_train[:50,0],X[:50,1], label='0')\n",
    "plt.scatter(X[50:,0],X[50:,1], label='1')\n",
    "plt.legend()"
   ]
  },
  {
   "cell_type": "code",
   "execution_count": 249,
   "metadata": {},
   "outputs": [],
   "source": [
    "## 感觉上面的代码没问题，但是正确率太低了，感觉哪里不对劲，重新写一个类\n",
    "class LRClassifier:\n",
    "    def __init__(self,max_iter=500,learning_rate=0.5,print_cost=True):\n",
    "        self.max_iter = max_iter\n",
    "        self.learning_rate = learning_rate\n",
    "        self.print_cost = print_cost\n",
    "        \n",
    "    def sigmoid(self,z):\n",
    "        s = 1./(1 + np.exp(-z))\n",
    "        return s\n",
    "    \n",
    "    def initialize_with_zeros(self,dim):\n",
    "        w = np.ones(shape=(dim,1),dtype=np.float32)\n",
    "        b = 1.0\n",
    "        assert(w.shape == (dim,1))\n",
    "        assert(isinstance(b,float))\n",
    "        return w,b\n",
    "    \n",
    "    def propagate(self,w,b,X,Y):\n",
    "        m = X.shape[1]\n",
    "        H = self.sigmoid(np.dot(w.T,X) + b)\n",
    "        assert(H.shape == (1,m))\n",
    "\n",
    "        cost = (-1.0/m) * np.sum((Y * np.log(H)) + (1-Y) * np.log(1-H),axis=1)\n",
    "        dw = (1.0/m) * np.dot(X,(H-Y).T)\n",
    "        db = (1.0/m) * np.sum(H-Y)\n",
    "        #print('db ' + str(db))\n",
    "        #print('(H-Y).T.shape ' + str((H-Y).T.shape))\n",
    "        #print('dw.shape ' + str(dw.shape))\n",
    "        #print('w.shape' + str(w.shape))\n",
    "        assert(dw.shape == w.shape)\n",
    "        assert(isinstance(db,float))\n",
    "        cost = np.squeeze(cost)\n",
    "        assert(cost.shape == ())\n",
    "        \n",
    "        grads = {'dw':dw,'db':db}\n",
    "        return grads,cost\n",
    "    \n",
    "    def optimize(self,w,b,X,Y):\n",
    "        costs = []\n",
    "        for i in range(self.max_iter):\n",
    "            grads,cost = self.propagate(w,b,X,Y)\n",
    "            dw = grads['dw']\n",
    "            db = grads['db']\n",
    "            \n",
    "            w = w - self.learning_rate * dw\n",
    "            b = b - self.learning_rate * db\n",
    "            \n",
    "            if i % 100 == 0:\n",
    "                costs.append(cost)\n",
    "            if self.print_cost and i % 100 == 0:\n",
    "                print('Cost after iteration %d: %f '%(i,cost))\n",
    "        params = {'w':w,'b':b}\n",
    "        grads = {'dw':dw,'db':db}\n",
    "        \n",
    "        return params,grads,costs\n",
    "    \n",
    "    def predict(self,w,b,X):\n",
    "        m = X.shape[1]\n",
    "        Y_prediction = np.zeros((1,m))\n",
    "        w = w.reshape((X.shape[0],1))\n",
    "        \n",
    "        H = self.sigmoid(np.dot(w.T,X) + b)\n",
    "        for i in range(H.shape[1]):\n",
    "            if H[0,i] >= 0.5:\n",
    "                Y_prediction[0,i] = 1\n",
    "            else:\n",
    "                Y_prediction[0,i] = 0\n",
    "        assert(Y_prediction.shape == (1,m))\n",
    "        \n",
    "        return Y_prediction\n",
    "    \n",
    "    def fit(self,X,y):\n",
    "        '''\n",
    "        矩阵格式需要转换，一开始是X :[m,n] 需要转换为[n,m]\n",
    "        '''\n",
    "        m,n = X.shape\n",
    "        X = X.reshape((n,m))\n",
    "        y = y.reshape((1,m))\n",
    "        #print('X.shape ' + str(X.shape))\n",
    "        #print('y.shape ' + str(y.shape))\n",
    "        \n",
    "        self.w,self.b = self.initialize_with_zeros(n)\n",
    "        params,grads,costs = self.optimize(self.w,self.b,X,y)\n",
    "        self.w = params['w']\n",
    "        self.b = params['b']\n",
    "        \n",
    "        y_prediction = self.predict(self.w,self.b,X)\n",
    "        print(\"train accuracy: {} %\".format(100 - np.mean(np.abs(y_prediction - y)) * 100))\n",
    "        d = {'costs':costs,\n",
    "             'y_prediction':y_prediction,\n",
    "             'w':self.w,\n",
    "             'b':self.b,\n",
    "             'learning_rate':self.learning_rate,\n",
    "             'max_iter':self.max_iter\n",
    "            }\n",
    "        return d\n",
    "    \n",
    "    def score(self,X_test,y_test):\n",
    "        m,n = X_test.shape\n",
    "        X_test = X_test.reshape((n,m))\n",
    "        y_test = y_test.reshape((1,m))\n",
    "        y_prediction = self.predict(self.w,self.b,X_test)\n",
    "        print('y_prediction ' + str(y_prediction))\n",
    "        print('y_test ' + str(y_test))\n",
    "        return (1 - np.mean(np.abs(y_prediction - y_test)))"
   ]
  },
  {
   "cell_type": "code",
   "execution_count": 250,
   "metadata": {},
   "outputs": [
    {
     "name": "stdout",
     "output_type": "stream",
     "text": [
      "Cost after iteration 0: 5.007622 \n",
      "Cost after iteration 100: 1.544078 \n",
      "Cost after iteration 200: 1.589089 \n",
      "Cost after iteration 300: 1.628537 \n",
      "Cost after iteration 400: 1.656166 \n",
      "train accuracy: 47.14285714285714 %\n"
     ]
    }
   ],
   "source": [
    "lr_clf = LRClassifier()\n",
    "d = lr_clf.fit(X_train,y_train)"
   ]
  },
  {
   "cell_type": "code",
   "execution_count": 251,
   "metadata": {},
   "outputs": [
    {
     "name": "stdout",
     "output_type": "stream",
     "text": [
      "y_prediction [[1. 1. 1. 1. 1. 1. 1. 1. 1. 1. 1. 1. 1. 1. 1. 1. 1. 1. 1. 1. 1. 1. 1. 1.\n",
      "  1. 1. 1. 1. 1. 1. 1. 1. 1. 1. 1. 1. 1. 1. 1. 1. 1. 1. 1. 1. 1. 1. 1. 1.\n",
      "  1. 1. 1. 1. 1. 1. 1. 1. 1. 1. 1. 1. 1. 1. 1. 1. 1. 1. 1. 1. 1. 1.]]\n",
      "y_test [[0. 0. 1. 1. 0. 0. 0. 0. 0. 0. 1. 1. 1. 1. 0. 0. 1. 0. 0. 0. 1. 1. 1. 1.\n",
      "  0. 1. 1. 0. 0. 0. 0. 1. 1. 1. 1. 0. 1. 1. 0. 0. 0. 0. 0. 0. 1. 1. 1. 1.\n",
      "  0. 1. 1. 0. 0. 1. 0. 1. 0. 0. 1. 0. 1. 0. 0. 0. 1. 1. 1. 0. 0. 1.]]\n"
     ]
    }
   ],
   "source": [
    "res = lr_clf.score(X_train,y_train) "
   ]
  },
  {
   "cell_type": "code",
   "execution_count": 252,
   "metadata": {},
   "outputs": [
    {
     "data": {
      "text/plain": [
       "0.4714285714285714"
      ]
     },
     "execution_count": 252,
     "metadata": {},
     "output_type": "execute_result"
    }
   ],
   "source": [
    "res"
   ]
  },
  {
   "cell_type": "code",
   "execution_count": 246,
   "metadata": {},
   "outputs": [
    {
     "data": {
      "text/plain": [
       "<matplotlib.legend.Legend at 0x1a1cd7db00>"
      ]
     },
     "execution_count": 246,
     "metadata": {},
     "output_type": "execute_result"
    },
    {
     "data": {
      "image/png": "[encoded data removed]",
      "text/plain": [
       "<Figure size 432x288 with 1 Axes>"
      ]
     },
     "metadata": {
      "needs_background": "light"
     },
     "output_type": "display_data"
    }
   ],
   "source": [
    "x_points = np.arange(4, 8)\n",
    "y_ = -(lr_clf.w[0,0] * x_points + lr_clf.b)/lr_clf.w[1,0]\n",
    "plt.plot(x_points,y_)\n",
    "\n",
    "plt.scatter(X[:50,0],X[:50,1], label='0')\n",
    "plt.scatter(X[50:,0],X[50:,1], label='1')\n",
    "plt.legend()"
   ]
  },
  {
   "cell_type": "code",
   "execution_count": 256,
   "metadata": {},
   "outputs": [],
   "source": [
    "'''\n",
    "我分析准确率差这么多的原因\n",
    "1.首先参考代码是采用随机梯度下降法，每次更新一个实例\n",
    "2.发现一个简单问题，最后更新的时候损失不在下降\n",
    "'''\n",
    "class LogisticReressionClassifier:\n",
    "    def __init__(self, max_iter=200, learning_rate=0.01):\n",
    "        self.max_iter = max_iter\n",
    "        self.learning_rate = learning_rate\n",
    "\n",
    "    def sigmoid(self, x):\n",
    "        return 1 / (1 + exp(-x))\n",
    "\n",
    "    def data_matrix(self, X):\n",
    "        data_mat = []\n",
    "        for d in X:\n",
    "            data_mat.append([1.0, *d])\n",
    "        return data_mat\n",
    "\n",
    "    def fit(self, X, y):\n",
    "        # label = np.mat(y)\n",
    "        data_mat = self.data_matrix(X)  # m*n\n",
    "        self.weights = np.zeros((len(data_mat[0]), 1), dtype=np.float32)\n",
    "\n",
    "        for iter_ in range(self.max_iter):\n",
    "            for i in range(len(X)):\n",
    "                result = self.sigmoid(np.dot(data_mat[i], self.weights))\n",
    "                error = y[i] - result\n",
    "                self.weights += self.learning_rate * error * np.transpose(\n",
    "                    [data_mat[i]])\n",
    "        print('LogisticRegression Model(learning_rate={},max_iter={})'.format(\n",
    "            self.learning_rate, self.max_iter))\n",
    "\n",
    "    # def f(self, x):\n",
    "    #     return -(self.weights[0] + self.weights[1] * x) / self.weights[2]\n",
    "\n",
    "    def score(self, X_test, y_test):\n",
    "        right = 0\n",
    "        X_test = self.data_matrix(X_test)\n",
    "        for x, y in zip(X_test, y_test):\n",
    "            result = np.dot(x, self.weights)\n",
    "            if (result > 0 and y == 1) or (result < 0 and y == 0):\n",
    "                right += 1\n",
    "        return right / len(X_test)"
   ]
  },
  {
   "cell_type": "code",
   "execution_count": 215,
   "metadata": {},
   "outputs": [
    {
     "name": "stdout",
     "output_type": "stream",
     "text": [
      "LogisticRegression Model(learning_rate=0.01,max_iter=200)\n"
     ]
    }
   ],
   "source": [
    "lr_clf = LogisticReressionClassifier()\n",
    "lr_clf.fit(X_train, y_train)"
   ]
  },
  {
   "cell_type": "code",
   "execution_count": 216,
   "metadata": {},
   "outputs": [
    {
     "data": {
      "text/plain": [
       "1.0"
      ]
     },
     "execution_count": 216,
     "metadata": {},
     "output_type": "execute_result"
    }
   ],
   "source": [
    "lr_clf.score(X_test, y_test)"
   ]
  },
  {
   "cell_type": "code",
   "execution_count": 217,
   "metadata": {},
   "outputs": [
    {
     "data": {
      "text/plain": [
       "0.9857142857142858"
      ]
     },
     "execution_count": 217,
     "metadata": {},
     "output_type": "execute_result"
    }
   ],
   "source": [
    "lr_clf.score(X_train, y_train)"
   ]
  },
  {
   "cell_type": "code",
   "execution_count": 218,
   "metadata": {},
   "outputs": [
    {
     "data": {
      "text/plain": [
       "70"
      ]
     },
     "execution_count": 218,
     "metadata": {},
     "output_type": "execute_result"
    }
   ],
   "source": [
    "len(X_train)"
   ]
  }
 ],
 "metadata": {
  "kernelspec": {
   "display_name": "Python 3",
   "language": "python",
   "name": "python3"
  },
  "language_info": {
   "codemirror_mode": {
    "name": "ipython",
    "version": 3
   },
   "file_extension": ".py",
   "mimetype": "text/x-python",
   "name": "python",
   "nbconvert_exporter": "python",
   "pygments_lexer": "ipython3",
   "version": "3.6.7"
  }
 },
 "nbformat": 4,
 "nbformat_minor": 2
}
