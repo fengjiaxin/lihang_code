{
 "cells": [
  {
   "cell_type": "markdown",
   "metadata": {},
   "source": [
    "### CART生成\n",
    "\n",
    "&emsp;&emsp;决策树的生成就是递归的构建二叉决策树的过程，对回归树用平方误差最小化准则，对分类树用基尼指数最小化准则，进行特征选择，生成二叉树。\n",
    "\n",
    "1. 回归树的生成\n",
    "\n",
    "&emsp;&emsp;当输入空间的划分确定时，可以用平方误差$\\sum_{x_{i}\\in R_{m}}(y_{i} - f(x_{i}))$来表示回归树对于训练数据的预测误差，用平方误差最小的准则来求解每个单元上的最优输出值，易知，单元$R_{m}$上的$c_{m}$的最优值\n"
   ]
  },
  {
   "cell_type": "markdown",
   "metadata": {},
   "source": [
    "在树的构建过程中，使用字典存储树的结构，该字典包含以下4个元素。\n",
    "1. 代切分的特征\n",
    "2. 代切分的特征值\n",
    "3. 左子树\n",
    "4. 右子树\n",
    "\n",
    "函数createTree的伪代码大致如下：\n",
    "\n",
    "    找到最佳的代切分特征：\n",
    "        如果该节点不能再分，将该节点存为叶节点\n",
    "        执行二元切分\n",
    "        在左子树调用createTree()方法\n",
    "        在右子树调用createTree()方法"
   ]
  },
  {
   "cell_type": "code",
   "execution_count": 5,
   "metadata": {},
   "outputs": [],
   "source": [
    "def bin_split_data(dataset,feature,value):\n",
    "    mat0 = dataset.loc[dataset[feature] <= value]\n",
    "    mat1 = dataset.loc[dataset[feature] > value]\n",
    "    return mat0,mat1"
   ]
  },
  {
   "cell_type": "code",
   "execution_count": 15,
   "metadata": {},
   "outputs": [],
   "source": [
    "# 获取子节点的值\n",
    "def reg_leaf(dataset,label):\n",
    "    return np.mean(dataset[label])"
   ]
  },
  {
   "cell_type": "code",
   "execution_count": 83,
   "metadata": {},
   "outputs": [],
   "source": [
    "class Node:\n",
    "    def __init__(self, isLeaf=True, feature_val=None, feature_name=None, feature_axis=None, y=None):\n",
    "        self.isLeaf = isLeaf\n",
    "        self.feature_val = feature_val\n",
    "        self.y = y\n",
    "        self.feature_name = feature_name\n",
    "        self.feature_axis = feature_axis\n",
    "        self.tree = {}\n",
    "        if self.isLeaf:\n",
    "            self.result = {'y':self.y}\n",
    "        else:\n",
    "            self.result = {\n",
    "                'feature_val': self.feature_val,\n",
    "                'feature_name': self.feature_name,\n",
    "                'tree': self.tree\n",
    "            }\n",
    "\n",
    "    def __repr__(self):\n",
    "        return '{}'.format(self.result)\n",
    "\n",
    "    def add_child(self, feature_val, left_tree, right_tree):\n",
    "        self.tree['left'] = left_tree\n",
    "        self.tree['right'] = right_tree\n",
    "\n",
    "    def predict(self, features):\n",
    "        '''\n",
    "        features是一个特征的列表\n",
    "        '''\n",
    "        if self.isLeaf:\n",
    "            return self.y\n",
    "        vec_val = features[self.feature_axis]\n",
    "        if vec_val <= self.feature_val:\n",
    "            return self.tree['left'].predict(features)\n",
    "        else:\n",
    "            return self.tree['right'].predict(features)\n",
    "\n",
    "\n",
    "class DTree:\n",
    "    def __init__(self, tolS, tolN):\n",
    "        # 容许的误差下降值，如果切分后误差下降值< tolS，停止划分，作为叶子节点\n",
    "        self.tolS = tolS\n",
    "        # 容许的最少样本数，如果剩下的样本数<tolN,停止划分，作为叶子节点\n",
    "        self.tolN = tolN\n",
    "        self._tree = {}\n",
    "\n",
    "    # 计算数据集的平均值\n",
    "    def regleaf(self,dataset, label):\n",
    "        '''\n",
    "        dataset:df格式\n",
    "        '''\n",
    "        # 最后一列\n",
    "        return dataset[label].mean()\n",
    "\n",
    "    # 计算数据集的方差和\n",
    "    def regErr(self,dataset,label):\n",
    "        res = np.var(dataset[label])\n",
    "        return res\n",
    "\n",
    "    # 切割数据\n",
    "    def bin_split_data(self ,dataset, feature, value):\n",
    "        mat0 = dataset.loc[dataset[feature] <= value]\n",
    "        mat1 = dataset.loc[dataset[feature] > value]\n",
    "        return mat0, mat1\n",
    "\n",
    "    # 从数据集中选择最好的特征进行划分，返回feature_axis,feature_val,如果不能划分，返回None ,叶子节点值\n",
    "    def choose_best_split(self,dataset, tolS, tolN):\n",
    "        # 1.如果数据集的所有值都相等\n",
    "        feature_list = dataset.columns[:-1]\n",
    "        label = dataset.columns[-1]\n",
    "\n",
    "        if len(dataset[label].value_counts()) == 1:\n",
    "            return None, self.regleaf(dataset, label)\n",
    "        # 不划分的误差和\n",
    "        S = self.regErr(dataset, label)\n",
    "        # 记录最小的误差和，对应的特征index,以及划分值\n",
    "        best_s = float('inf')\n",
    "        best_index = None\n",
    "        best_value = None\n",
    "\n",
    "        for feat_index, feat_name in enumerate(feature_list):\n",
    "            for splitVal in dataset[feat_name].unique():\n",
    "                mat0, mat1 = self.bin_split_data(dataset, feat_name, splitVal)\n",
    "                # 切割后的数据过少\n",
    "                if mat0.shape[0] < tolN or mat1.shape[0] < tolN:\n",
    "                    continue\n",
    "                new_s = self.regErr(mat0, label) + self.regErr(mat1, label)\n",
    "                if new_s < best_s:\n",
    "                    best_s = new_s\n",
    "                    best_index = feat_index\n",
    "                    best_value = splitVal\n",
    "        # 如果误差减少不大，则不进行划分\n",
    "        if S - best_s < tolS:\n",
    "            return None, self.regleaf(dataset,label)\n",
    "        return best_index, best_value\n",
    "    \n",
    "    # 判断是否是子树\n",
    "    def isTree(self,node):\n",
    "        return not node.isLeaf\n",
    "\n",
    "    def  \n",
    "    \n",
    "    def train(self, dataset):\n",
    "        feat_index, feat_val = self.choose_best_split(dataset, self.tolS, self.tolN)\n",
    "        features_list = dataset.columns[:-1]\n",
    "        label = dataset.columns[-1]\n",
    "\n",
    "        if feat_index is None:\n",
    "            # 建立叶子节点\n",
    "            return Node(isLeaf=True, y=self.regleaf(dataset, label))\n",
    "        else:\n",
    "            node_tree = Node(isLeaf=False, feature_val=feat_val, feature_name=features_list[feat_index],\n",
    "                             feature_axis=feat_index)\n",
    "            mat0, mat1 = self.bin_split_data(dataset, features_list[feat_index], feat_val)\n",
    "            left_tree = self.train(mat0)\n",
    "            right_tree = self.train(mat1)\n",
    "            node_tree.add_child(feat_val,left_tree,right_tree)\n",
    "            return node_tree\n",
    "\n",
    "    def fit(self, train_data):\n",
    "        self._tree = self.train(train_data)\n",
    "        return self._tree\n",
    "\n",
    "    def predict(self, X_test):\n",
    "        return self._tree.predict(X_test)"
   ]
  },
  {
   "cell_type": "code",
   "execution_count": 69,
   "metadata": {},
   "outputs": [],
   "source": [
    "import pandas as pd\n",
    "def load_df(file_name):\n",
    "    temp_list = []\n",
    "    with open(file_name,'r') as f:\n",
    "        for line in f:\n",
    "            vec = line.strip().split(' ')\n",
    "            x = float(vec[0])\n",
    "            y = float(vec[1])\n",
    "            temp_list.append([x,y])\n",
    "    return pd.DataFrame(temp_list,columns=['x','y'])"
   ]
  },
  {
   "cell_type": "code",
   "execution_count": 70,
   "metadata": {},
   "outputs": [],
   "source": [
    "read_file = './ex_0.txt'\n",
    "data_df = load_df(read_file)"
   ]
  },
  {
   "cell_type": "code",
   "execution_count": 86,
   "metadata": {},
   "outputs": [
    {
     "data": {
      "text/plain": [
       "(200, 2)"
      ]
     },
     "execution_count": 86,
     "metadata": {},
     "output_type": "execute_result"
    }
   ],
   "source": [
    "data_df.shape"
   ]
  },
  {
   "cell_type": "code",
   "execution_count": 89,
   "metadata": {},
   "outputs": [
    {
     "data": {
      "text/plain": [
       "{'feature_val': 0.39435, 'feature_name': 'x', 'tree': {'left': {'feature_val': 0.197834, 'feature_name': 'x', 'tree': {'left': {'y': -0.023838155555555553}, 'right': {'y': 1.0289583666666666}}}, 'right': {'feature_val': 0.582002, 'feature_name': 'x', 'tree': {'left': {'y': 1.980035071428571}, 'right': {'feature_val': 0.797583, 'feature_name': 'x', 'tree': {'left': {'y': 2.9836209534883724}, 'right': {'y': 3.9871632}}}}}}}"
      ]
     },
     "execution_count": 89,
     "metadata": {},
     "output_type": "execute_result"
    }
   ],
   "source": [
    "tol_s = 0\n",
    "tol_n = 2\n",
    "dt = DTree(tol_s,tol_n)\n",
    "dt.fit(data_df)"
   ]
  },
  {
   "cell_type": "code",
   "execution_count": 47,
   "metadata": {},
   "outputs": [],
   "source": [
    "X_test = [0.152324]"
   ]
  },
  {
   "cell_type": "code",
   "execution_count": 75,
   "metadata": {},
   "outputs": [
    {
     "data": {
      "text/plain": [
       "-0.023838155555555553"
      ]
     },
     "execution_count": 75,
     "metadata": {},
     "output_type": "execute_result"
    }
   ],
   "source": [
    "dt.predict(X_test)"
   ]
  },
  {
   "cell_type": "code",
   "execution_count": 76,
   "metadata": {},
   "outputs": [
    {
     "data": {
      "text/plain": [
       "<matplotlib.legend.Legend at 0x11b963400>"
      ]
     },
     "execution_count": 76,
     "metadata": {},
     "output_type": "execute_result"
    },
    {
     "data": {
      "image/png": "[encoded data removed]",
      "text/plain": [
       "<Figure size 432x288 with 1 Axes>"
      ]
     },
     "metadata": {
      "needs_background": "light"
     },
     "output_type": "display_data"
    }
   ],
   "source": [
    "import matplotlib.pyplot as plt\n",
    "\n",
    "plt.scatter(data_df.iloc[:,0],data_df.iloc[:,1])\n",
    "plt.legend()"
   ]
  },
  {
   "cell_type": "markdown",
   "metadata": {},
   "source": [
    "### 树剪枝\n",
    "&emsp;&emsp;通过降低决策树的复杂度来避免过拟合的过程成为剪枝\n",
    "1. 预剪枝：设定提前的终止条件\n",
    "2. 后剪枝：需要使用训练数据和验证数据，进行合并节点\n",
    "\n",
    "#### 后剪枝\n",
    "首先根据训练数据集，使得构建的树足够大，足够复杂，便于剪枝，接下来从上而下找到叶子节点，用测试集来判断将这些叶节点合并是否能够降低测试误差。如果可以就合并。\n",
    "函数prune()伪代码如下:\n",
    "\n",
    "    基于已有的树切分测试数据：\n",
    "        如果存在任一子集是一颗树，则在该子集递归调用剪枝过程\n",
    "        计算将当前两个叶节点合并后的误差\n",
    "        计算不合并的误差\n",
    "        如果合并会降低误差的话，就合并"
   ]
  }
 ],
 "metadata": {
  "kernelspec": {
   "display_name": "Python 3",
   "language": "python",
   "name": "python3"
  },
  "language_info": {
   "codemirror_mode": {
    "name": "ipython",
    "version": 3
   },
   "file_extension": ".py",
   "mimetype": "text/x-python",
   "name": "python",
   "nbconvert_exporter": "python",
   "pygments_lexer": "ipython3",
   "version": "3.6.7"
  }
 },
 "nbformat": 4,
 "nbformat_minor": 2
}
